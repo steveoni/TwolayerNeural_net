{
 "cells": [
  {
   "cell_type": "markdown",
   "metadata": {},
   "source": [
    "# Two layer network on winconsi breast cancer dataset\n",
    "    Experimenting with breast cancer dataset to get intuition on how neural net work and things that affect the neural in prediction accuracy"
   ]
  },
  {
   "cell_type": "code",
   "execution_count": 4,
   "metadata": {
    "collapsed": true
   },
   "outputs": [],
   "source": [
    "import numpy as np\n",
    "import matplotlib.pyplot as plt"
   ]
  },
  {
   "cell_type": "code",
   "execution_count": 5,
   "metadata": {
    "collapsed": false
   },
   "outputs": [],
   "source": [
    "#Two layer network using sgd\n",
    "class TwoLayer(object):\n",
    "    \n",
    "    def __init__(self,input_size,hidden_size,output_size,std=1e-4):\n",
    "        \n",
    "        self.params = {}\n",
    "        self.params[\"w1\"] = std * np.random.randn(input_size,hidden_size)\n",
    "        self.params[\"w2\"] = std * np.random.randn(hidden_size,output_size)\n",
    "        self.params[\"b1\"] = np.zeros(hidden_size)\n",
    "        self.params[\"b2\"] = np.zeros(output_size)\n",
    "        \n",
    "    def loss(self,x,y=None,reg=0.0):\n",
    "        \n",
    "        w1,w2 = self.params[\"w1\"], self.params[\"w2\"]\n",
    "        b1,b2 = self.params[\"b1\"], self.params[\"b2\"]\n",
    "        \n",
    "        N,_  = x.shape\n",
    "        loss = None\n",
    "        layer = x.dot(w1) + b1\n",
    "        layer[layer <0] = 0 #relu \n",
    "        score = layer.dot(w2) + b2\n",
    "        \n",
    "        if y is None:\n",
    "            return score\n",
    "        \n",
    "        #compute log(exp(fyi)/sum(exp(fyj)))\n",
    "        #0r fyi - log(sum(exp(fyj)))\n",
    "        stable_score = (score - np.max(score)).T\n",
    "        \n",
    "        fyi = stable_score[y,range(N)]\n",
    "        fyj = np.exp(stable_score)\n",
    "        \n",
    "        \n",
    "        li = -fyi +  np.log(np.sum(fyj,axis=0))\n",
    "        \n",
    "        mul_li = np.mean(li)\n",
    "        Reg_li = 0.5*reg*(np.sum(w1*w1) + np.sum(w2*w2))\n",
    "        \n",
    "        loss = mul_li + Reg_li\n",
    "        \n",
    "        grads = {}\n",
    "        \n",
    "        dfj = (np.exp(fyj)/np.sum(np.exp(fyj),axis=0))\n",
    "        dfyi = np.zeros(fyj.shape)\n",
    "        dfyi[y,range(N)]=1\n",
    "        \n",
    "        dli = (dfj - dfyi)/N\n",
    "        \n",
    "        db2 = dli.sum(axis=1)\n",
    "        \n",
    "        dw2 = dli.dot(layer).T + reg*w2\n",
    "        \n",
    "        dlayer = dli.T.dot(w2.T)\n",
    "        \n",
    "        #backprop relu\n",
    "        dlayer[layer<=0] = 0\n",
    "        \n",
    "        db1 = dlayer.sum(axis=0)\n",
    "        \n",
    "        dw1 = dlayer.T.dot(x).T + reg*w1\n",
    "        \n",
    "        assert db1.shape==b1.shape\n",
    "        assert db2.shape==b2.shape\n",
    "        assert dw1.shape==w1.shape\n",
    "        assert dw2.shape==w2.shape\n",
    "        \n",
    "        grads[\"w1\"] =dw1\n",
    "        grads[\"w2\"] =dw2\n",
    "        grads[\"b1\"] =b1\n",
    "        grads[\"b2\"] =b2\n",
    "        \n",
    "        return loss ,grads\n",
    "    \n",
    "    def train(self,X,y,x_val=None,y_val=None,learning_rate=1e-3,\n",
    "             learning_rate_decay=0.95,num_iters=100,\n",
    "             batch_size=2,reg=1e-7,verbose=False):\n",
    "        \n",
    "        num_train = X.shape[0]\n",
    "        \n",
    "        iteration_per_epoch = max(num_train/batch_size,1)\n",
    "        \n",
    "        loss_history = []\n",
    "        val_acc_history = []\n",
    "        train_acc_history = []\n",
    "        \n",
    "        for it in xrange(num_iters):\n",
    "            X_batch = None\n",
    "            y_batch = None\n",
    "            \n",
    "            samplebatch = np.random.choice(range(num_train),batch_size,replace=True)\n",
    "            X_batch = X[samplebatch,:]\n",
    "            y_batch = y[samplebatch]\n",
    "            \n",
    "            loss,grads = self.loss(X_batch,y_batch,reg=reg)\n",
    "            loss_history.append(loss)\n",
    "            \n",
    "            param_scale = np.linalg.norm(self.params['w1'].ravel())\n",
    "            for param_name in grads:\n",
    "                #update = - learning_rate * grads['w1']\n",
    "                #update_scale = np.linalg.norm(update.ravel())\n",
    "                self.params[param_name] -= learning_rate * grads[param_name]\n",
    "                \n",
    "            if verbose and it%100==0:\n",
    "                print \"iteration %d / %d:loss %f\" %(it, num_iters,loss)\n",
    "                #print update_scale/param_scale\n",
    "                \n",
    "            if it % iteration_per_epoch==0:\n",
    "                train_acc = (self.predict(X_batch)==y_batch).mean()\n",
    "                val_acc = (self.predict(x_val)==y_val).mean()\n",
    "                train_acc_history.append(train_acc)\n",
    "                val_acc_history.append(val_acc)\n",
    "                \n",
    "                learning_rate *=learning_rate_decay\n",
    "                \n",
    "        return {\n",
    "                \"loss_history\":loss_history,\n",
    "                \"train_acc_history\":train_acc_history,\n",
    "                \"val_acc_history\":val_acc_history\n",
    "            }\n",
    "    def predict(self,x):\n",
    "        \n",
    "        y_pred = None\n",
    "        \n",
    "        y_pred = self.loss(x,y=None,reg=0.0).argmax(axis=1)\n",
    "        \n",
    "        return y_pred\n",
    "        \n",
    "        \n",
    "        \n",
    "        "
   ]
  },
  {
   "cell_type": "code",
   "execution_count": 23,
   "metadata": {
    "collapsed": false
   },
   "outputs": [],
   "source": [
    "#get our data which is thewincosi breast cancer dataset\n",
    "\n",
    "data = []\n",
    "label = []\n",
    "with open(\"brc.csv\",\"r\") as fn:\n",
    "    filem = fn.readlines()\n",
    "    filem.pop(0)\n",
    "    for f in filem:\n",
    "        op = f.split(\",\")\n",
    "        op.pop(0)\n",
    "        x = []\n",
    "        \n",
    "        #check if index 5 of the list conatian \"?\"\n",
    "        #then over look such a list\n",
    "        if op[5] ==\"?\":\n",
    "            continue\n",
    "        \n",
    "        #loop through list op and convert the string to float and integer\n",
    "        #to be store in the data and label\n",
    "        for i in op:\n",
    "            \n",
    "            if i==op[len(op)-1]:\n",
    "                if int(i)==2:\n",
    "                    label.append(0)\n",
    "                else:\n",
    "                    label.append(1)\n",
    "                \n",
    "            else:\n",
    "                \n",
    "                x.append(float(int(i)))\n",
    "            \n",
    "        data.append(x)\n",
    "            \n",
    "        \n",
    "#clean the data to be mean centered \n",
    "\n",
    "#you can comment dis out to use the non centered mean data\n",
    "data -= np.mean(data,axis=0)\n"
   ]
  },
  {
   "cell_type": "code",
   "execution_count": 24,
   "metadata": {
    "collapsed": false
   },
   "outputs": [],
   "source": [
    "#spliting up data using scikit-learn test-split \n",
    "from sklearn.model_selection import train_test_split\n",
    "X_trainp,X_test,y_trainp,y_test = train_test_split(np.array(data),np.array(label),test_size=0.25,random_state=42)\n",
    "\n",
    "X_train,X_val,y_train,y_val = train_test_split(X_trainp,y_trainp,test_size=0.10,random_state=42)"
   ]
  },
  {
   "cell_type": "code",
   "execution_count": 25,
   "metadata": {
    "collapsed": false
   },
   "outputs": [],
   "source": [
    "\"\"\"\n",
    "Try to overfit the network with small part of the data\n",
    "we will use 100 sample of the the train and validation data\n",
    "\"\"\"\n",
    "input_size = np.size(X_train[0])\n",
    "hidden_sizes = 50\n",
    "num_classes = 2\n",
    "\n",
    "toy_x = X_train[:100, :]\n",
    "toy_y = y_train[:100]\n",
    "\n",
    "val_x = X_val[:100,:]\n",
    "val_y = y_val[:100]\n",
    "\n",
    "net  = TwoLayer(input_size,hidden_sizes,num_classes)"
   ]
  },
  {
   "cell_type": "code",
   "execution_count": 26,
   "metadata": {
    "collapsed": false
   },
   "outputs": [
    {
     "name": "stdout",
     "output_type": "stream",
     "text": [
      "iteration 0 / 1000:loss 0.693152\n",
      "iteration 100 / 1000:loss 0.693147\n",
      "iteration 200 / 1000:loss 0.693147\n",
      "iteration 300 / 1000:loss 0.693147\n",
      "iteration 400 / 1000:loss 0.693147\n",
      "iteration 500 / 1000:loss 0.693147\n",
      "iteration 600 / 1000:loss 0.693147\n",
      "iteration 700 / 1000:loss 0.693147\n",
      "iteration 800 / 1000:loss 0.693147\n",
      "iteration 900 / 1000:loss 0.693147\n",
      "Validation accuracy: 0.9615384615384616\n"
     ]
    }
   ],
   "source": [
    "stats = net.train(toy_x,toy_y,val_x,val_y,\n",
    "                  batch_size=20,num_iters=1000,learning_rate=6e-3,\n",
    "                 learning_rate_decay=1.0,reg=2.0,verbose=True)\n",
    "\n",
    "val_acc = (net.predict(val_x) == y_val).mean()\n",
    "\n",
    "print 'Validation accuracy:', val_acc"
   ]
  },
  {
   "cell_type": "code",
   "execution_count": 27,
   "metadata": {
    "collapsed": false
   },
   "outputs": [
    {
     "data": {
      "image/png": "[encoded data removed]",
      "text/plain": [
       "<Figure size 432x288 with 2 Axes>"
      ]
     },
     "metadata": {},
     "output_type": "display_data"
    }
   ],
   "source": [
    "plt.subplot(2, 1, 1)\n",
    "plt.plot(stats['loss_history'])\n",
    "plt.title('Loss history')\n",
    "plt.xlabel('Iteration')\n",
    "plt.ylabel('Loss')\n",
    "\n",
    "plt.subplot(2, 1, 2)\n",
    "\n",
    "plt.plot(stats['train_acc_history'], label='train')\n",
    "plt.plot(stats['val_acc_history'], label='val')\n",
    "plt.title('Classification accuracy history')\n",
    "plt.legend()\n",
    "plt.xlabel('Epoch')\n",
    "plt.ylabel('Clasification accuracy')\n",
    "plt.show()"
   ]
  },
  {
   "cell_type": "code",
   "execution_count": 28,
   "metadata": {
    "collapsed": false
   },
   "outputs": [
    {
     "name": "stdout",
     "output_type": "stream",
     "text": [
      "0.96\n"
     ]
    }
   ],
   "source": [
    "toy_xt = X_test[:100,:]\n",
    "toy_yt = y_test[:100]\n",
    "test_acc = (net.predict(toy_xt) == toy_yt).mean()\n",
    "print test_acc"
   ]
  },
  {
   "cell_type": "markdown",
   "metadata": {},
   "source": [
    "## Result\n",
    " we are able to see that the mean centered data produce a better test accuracy and a high validation accuracy.For this network we get a test_acc:0.96 and validation_acc:0.9615 and for non centered data we get a test_accuracy:0.32 and a validation accuracy:0.48"
   ]
  },
  {
   "cell_type": "code",
   "execution_count": 31,
   "metadata": {
    "collapsed": false
   },
   "outputs": [
    {
     "name": "stdout",
     "output_type": "stream",
     "text": [
      "iteration 0 / 1000:loss 0.693153\n",
      "iteration 100 / 1000:loss 0.693148\n",
      "iteration 200 / 1000:loss 0.693147\n",
      "iteration 300 / 1000:loss 0.693147\n",
      "iteration 400 / 1000:loss 0.693147\n",
      "iteration 500 / 1000:loss 0.693147\n",
      "iteration 600 / 1000:loss 0.693147\n",
      "iteration 700 / 1000:loss 0.693147\n",
      "iteration 800 / 1000:loss 0.693147\n",
      "iteration 900 / 1000:loss 0.693147\n",
      "Validation accuracy: 0.9615384615384616\n"
     ]
    }
   ],
   "source": [
    "#train the network on the full dataset\n",
    "\n",
    "net  = TwoLayer(input_size,hidden_sizes,num_classes)\n",
    "\n",
    "stats =net.train(X_train,y_train,X_val,y_val,\n",
    "                  batch_size=20,num_iters=1000,learning_rate=6e-3,\n",
    "                 learning_rate_decay=1.0,reg=2.0,verbose=True)\n",
    "\n",
    "val_acc = (net.predict(X_val) == y_val).mean()\n",
    "\n",
    "print 'Validation accuracy:', val_acc"
   ]
  },
  {
   "cell_type": "code",
   "execution_count": 32,
   "metadata": {
    "collapsed": false
   },
   "outputs": [
    {
     "data": {
      "image/png": "[encoded data removed]",
      "text/plain": [
       "<Figure size 432x288 with 2 Axes>"
      ]
     },
     "metadata": {},
     "output_type": "display_data"
    }
   ],
   "source": [
    "plt.subplot(2, 1, 1)\n",
    "plt.plot(stats['loss_history'])\n",
    "plt.title('Loss history')\n",
    "plt.xlabel('Iteration')\n",
    "plt.ylabel('Loss')\n",
    "\n",
    "plt.subplot(2, 1, 2)\n",
    "\n",
    "plt.plot(stats['train_acc_history'], label='train')\n",
    "plt.plot(stats['val_acc_history'], label='val')\n",
    "plt.title('Classification accuracy history')\n",
    "plt.legend()\n",
    "plt.xlabel('Epoch')\n",
    "plt.ylabel('Clasification accuracy')\n",
    "plt.show()"
   ]
  },
  {
   "cell_type": "code",
   "execution_count": 33,
   "metadata": {
    "collapsed": false
   },
   "outputs": [
    {
     "name": "stdout",
     "output_type": "stream",
     "text": [
      "0.9766081871345029\n"
     ]
    }
   ],
   "source": [
    "test_acc = (net.predict(X_test) == y_test).mean()\n",
    "print test_acc"
   ]
  },
  {
   "cell_type": "code",
   "execution_count": 43,
   "metadata": {
    "collapsed": false
   },
   "outputs": [
    {
     "name": "stdout",
     "output_type": "stream",
     "text": [
      "[0]\n"
     ]
    }
   ],
   "source": [
    "x = np.array([[6.0,8.0,8.0,1.0,3.0,4.0,3.0,7.0,1.0]])\n",
    "x -= np.mean(x,axis=0)\n",
    "print net.predict(x)"
   ]
  },
  {
   "cell_type": "code",
   "execution_count": null,
   "metadata": {
    "collapsed": true
   },
   "outputs": [],
   "source": []
  }
 ],
 "metadata": {
  "kernelspec": {
   "display_name": "Python 2",
   "language": "python",
   "name": "python2"
  },
  "language_info": {
   "codemirror_mode": {
    "name": "ipython",
    "version": 2
   },
   "file_extension": ".py",
   "mimetype": "text/x-python",
   "name": "python",
   "nbconvert_exporter": "python",
   "pygments_lexer": "ipython2",
   "version": "2.7.13"
  }
 },
 "nbformat": 4,
 "nbformat_minor": 2
}
